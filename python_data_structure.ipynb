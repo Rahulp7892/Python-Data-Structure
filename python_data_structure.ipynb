{
  "nbformat": 4,
  "nbformat_minor": 0,
  "metadata": {
    "colab": {
      "provenance": [],
      "toc_visible": true
    },
    "kernelspec": {
      "name": "python3",
      "display_name": "Python 3"
    },
    "language_info": {
      "name": "python"
    }
  },
  "cells": [
    {
      "cell_type": "code",
      "source": [
        "#Q.1 Write a code to reverse a string\n"
      ],
      "metadata": {
        "id": "8py_VbowiZ8a"
      },
      "execution_count": null,
      "outputs": []
    },
    {
      "cell_type": "code",
      "source": [
        "#Ans"
      ],
      "metadata": {
        "id": "Ih5PI_Lkj_U4"
      },
      "execution_count": null,
      "outputs": []
    },
    {
      "cell_type": "code",
      "source": [
        "def reverse_string(s):\n",
        "    return s[::-1]\n",
        "input_string = \"Hello, World!\"\n",
        "reversed_string = reverse_string(input_string)\n",
        "print(reversed_string)"
      ],
      "metadata": {
        "colab": {
          "base_uri": "https://localhost:8080/"
        },
        "id": "znovwdfukBC2",
        "outputId": "fbe159b0-240b-47d6-8871-c34f5e880cbd"
      },
      "execution_count": null,
      "outputs": [
        {
          "output_type": "stream",
          "name": "stdout",
          "text": [
            "!dlroW ,olleH\n"
          ]
        }
      ]
    },
    {
      "cell_type": "code",
      "source": [
        "#Q.2Write a code to count the number of vowels in a string"
      ],
      "metadata": {
        "id": "Le3ld5hCmE3J"
      },
      "execution_count": null,
      "outputs": []
    },
    {
      "cell_type": "code",
      "source": [
        "def count_vowels(s):\n",
        "    vowels = \"aeiouAEIOU\"\n",
        "    count = 0\n",
        "    for char in s:\n",
        "        if char in vowels:\n",
        "            count += 1\n",
        "    return count\n",
        "\n",
        "input_string = \"Hello, World!\"\n",
        "vowel_count = count_vowels(input_string)\n",
        "print(vowel_count)"
      ],
      "metadata": {
        "colab": {
          "base_uri": "https://localhost:8080/"
        },
        "id": "4zLBWJiFmJHm",
        "outputId": "8989a9ac-fcd0-4973-ca82-fede31575ecc"
      },
      "execution_count": null,
      "outputs": [
        {
          "output_type": "stream",
          "name": "stdout",
          "text": [
            "3\n"
          ]
        }
      ]
    },
    {
      "cell_type": "code",
      "source": [
        "#Q.3 Write a code to check if a given string is a palindrome or not"
      ],
      "metadata": {
        "id": "s9FM6BmPmUwy"
      },
      "execution_count": null,
      "outputs": []
    },
    {
      "cell_type": "code",
      "source": [
        "def is_palindrome(s):\n",
        "    cleaned_string = ''.join(char.lower() for char in s if char.isalnum())\n",
        "    return cleaned_string == cleaned_string[::-1]\n",
        "\n",
        "input_string = \"A man, a plan, a canal, Panama\"\n",
        "result = is_palindrome(input_string)\n",
        "print(result)"
      ],
      "metadata": {
        "colab": {
          "base_uri": "https://localhost:8080/"
        },
        "id": "_KfvUJBImvIw",
        "outputId": "f776b8d3-6867-4c64-a92e-1eed27817958"
      },
      "execution_count": null,
      "outputs": [
        {
          "output_type": "stream",
          "name": "stdout",
          "text": [
            "True\n"
          ]
        }
      ]
    },
    {
      "cell_type": "code",
      "source": [
        "#Q.4 Write a code to check if two given strings are anagrams of each other"
      ],
      "metadata": {
        "id": "xMQ7ie0zm5mR"
      },
      "execution_count": null,
      "outputs": []
    },
    {
      "cell_type": "code",
      "source": [
        "def are_anagrams(str1, str2):\n",
        "    def clean_string(s):\n",
        "        return ''.join(sorted(char.lower() for char in s if char.isalnum()))\n",
        "\n",
        "    cleaned_str1 = clean_string(str1)\n",
        "    cleaned_str2 = clean_string(str2)\n",
        "\n",
        "    return cleaned_str1 == cleaned_str2\n",
        "\n",
        "string1 = \"Listen\"\n",
        "string2 = \"Silent\"\n",
        "result = are_anagrams(string1, string2)\n",
        "print(result)"
      ],
      "metadata": {
        "colab": {
          "base_uri": "https://localhost:8080/"
        },
        "id": "CgcBC1NxnpYW",
        "outputId": "0222ae21-cb43-429b-a5f8-7eb044690c44"
      },
      "execution_count": null,
      "outputs": [
        {
          "output_type": "stream",
          "name": "stdout",
          "text": [
            "True\n"
          ]
        }
      ]
    },
    {
      "cell_type": "code",
      "source": [
        "#Q.5 Write a code to find all occurrences of a given substring within another string"
      ],
      "metadata": {
        "id": "BNkOb8QsnyDf"
      },
      "execution_count": null,
      "outputs": []
    },
    {
      "cell_type": "code",
      "source": [
        "def find_all_occurrences(haystack, needle):\n",
        "    \"\"\"\n",
        "    Find all occurrences of the substring `needle` in the string `haystack`.\n",
        "\n",
        "    Parameters:\n",
        "    - haystack (str): The string to search within.\n",
        "    - needle (str): The substring to find.\n",
        "\n",
        "    Returns:\n",
        "    - List[int]: A list of starting indices where `needle` occurs in `haystack`.\n",
        "    \"\"\"\n",
        "    indices = []\n",
        "    start = 0\n",
        "\n",
        "    while True:\n",
        "        start = haystack.find(needle, start)\n",
        "\n",
        "        if start == -1:\n",
        "            break\n",
        "\n",
        "        indices.append(start)\n",
        "        start += len(needle)\n",
        "\n",
        "    return indices\n",
        "\n",
        "haystack = \"This is a simple example. This example is simple.\"\n",
        "needle = \"simple\"\n",
        "occurrences = find_all_occurrences(haystack, needle)\n",
        "print(occurrences)"
      ],
      "metadata": {
        "colab": {
          "base_uri": "https://localhost:8080/"
        },
        "id": "Jv53LEqQ2M2-",
        "outputId": "997e92fc-2bac-45d7-d6bd-63e84e6c7cf9"
      },
      "execution_count": null,
      "outputs": [
        {
          "output_type": "stream",
          "name": "stdout",
          "text": [
            "[10, 42]\n"
          ]
        }
      ]
    },
    {
      "cell_type": "code",
      "source": [
        "#Q.6 Write a code to perform basic string compression using the counts of repeated characters."
      ],
      "metadata": {
        "id": "ffZ4XuG_2trg"
      },
      "execution_count": null,
      "outputs": []
    },
    {
      "cell_type": "code",
      "source": [
        "def compress_string(s):\n",
        "    \"\"\"\n",
        "    Compresses the input string `s` by replacing consecutive repeated characters\n",
        "    with the character followed by its count.\n",
        "\n",
        "    Parameters:\n",
        "    - s (str): The string to compress.\n",
        "\n",
        "    Returns:\n",
        "    - str: The compressed version of the string.\n",
        "    \"\"\"\n",
        "    if not s:\n",
        "        return \"\"\n",
        "\n",
        "    compressed = []\n",
        "    count = 1\n",
        "\n",
        "    for i in range(1, len(s)):\n",
        "        if s[i] == s[i - 1]:\n",
        "            count += 1\n",
        "        else:\n",
        "            compressed.append(s[i - 1] + str(count))\n",
        "            count = 1\n",
        "\n",
        "    compressed.append(s[-1] + str(count))\n",
        "\n",
        "    compressed_str = ''.join(compressed)\n",
        "\n",
        "    return compressed_str if len(compressed_str) < len(s) else s\n",
        "\n",
        "original_string = \"aabcccccaaa\"\n",
        "compressed_string = compress_string(original_string)\n",
        "print(\"Original:\", original_string)\n",
        "print(\"Compressed:\", compressed_string)"
      ],
      "metadata": {
        "colab": {
          "base_uri": "https://localhost:8080/"
        },
        "id": "Q2WnvYM15igL",
        "outputId": "12b3e5e5-1a95-4da4-d35e-21d44de374c4"
      },
      "execution_count": null,
      "outputs": [
        {
          "output_type": "stream",
          "name": "stdout",
          "text": [
            "Original: aabcccccaaa\n",
            "Compressed: a2b1c5a3\n"
          ]
        }
      ]
    },
    {
      "cell_type": "code",
      "source": [
        "#Q.7 Write a code to determine if a string has all unique characters"
      ],
      "metadata": {
        "id": "60QWHiky5tz4"
      },
      "execution_count": null,
      "outputs": []
    },
    {
      "cell_type": "code",
      "source": [
        "def has_unique_characters(s):\n",
        "    \"\"\"\n",
        "    Determines if the string `s` has all unique characters.\n",
        "\n",
        "    Parameters:\n",
        "    - s (str): The string to check.\n",
        "\n",
        "    Returns:\n",
        "    - bool: True if all characters are unique, False otherwise.\n",
        "    \"\"\"\n",
        "    return len(s) == len(set(s))\n",
        "\n",
        "string1 = \"abcdefg\"\n",
        "string2 = \"aabbcc\"\n",
        "print(has_unique_characters(string1))\n",
        "print(has_unique_characters(string2))\n"
      ],
      "metadata": {
        "colab": {
          "base_uri": "https://localhost:8080/"
        },
        "id": "RFtyDNmO6aC3",
        "outputId": "6603dc44-c123-4ad9-b379-78cb1e496850"
      },
      "execution_count": null,
      "outputs": [
        {
          "output_type": "stream",
          "name": "stdout",
          "text": [
            "True\n",
            "False\n"
          ]
        }
      ]
    },
    {
      "cell_type": "code",
      "source": [
        "def has_unique_characters_ascii(s):\n",
        "    \"\"\"\n",
        "    Determines if the string `s` has all unique ASCII characters.\n",
        "\n",
        "    Parameters:\n",
        "    - s (str): The string to check.\n",
        "\n",
        "    Returns:\n",
        "    - bool: True if all characters are unique, False otherwise.\n",
        "    \"\"\"\n",
        "    if len(s) > 128:\n",
        "        return False\n",
        "\n",
        "    char_set = [False] * 128\n",
        "\n",
        "    for char in s:\n",
        "        val = ord(char)\n",
        "        if char_set[val]:\n",
        "            return False\n",
        "        char_set[val] = True\n",
        "\n",
        "    return True\n",
        "\n",
        "string1 = \"abcdefg\"\n",
        "string2 = \"aabbcc\"\n",
        "print(has_unique_characters_ascii(string1))\n",
        "print(has_unique_characters_ascii(string2))"
      ],
      "metadata": {
        "colab": {
          "base_uri": "https://localhost:8080/"
        },
        "id": "VFHi739F6ddY",
        "outputId": "4cc56c80-898a-4359-c35e-277fe058bc20"
      },
      "execution_count": null,
      "outputs": [
        {
          "output_type": "stream",
          "name": "stdout",
          "text": [
            "True\n",
            "False\n"
          ]
        }
      ]
    },
    {
      "cell_type": "code",
      "source": [
        "def has_unique_characters_hash(s):\n",
        "    \"\"\"\n",
        "    Determines if the string `s` has all unique characters using a hash map.\n",
        "\n",
        "    Parameters:\n",
        "    - s (str): The string to check.\n",
        "\n",
        "    Returns:\n",
        "    - bool: True if all characters are unique, False otherwise.\n",
        "    \"\"\"\n",
        "    char_map = {}\n",
        "\n",
        "    for char in s:\n",
        "        if char in char_map:\n",
        "            return False\n",
        "        char_map[char] = True\n",
        "\n",
        "    return True\n",
        "\n",
        "string1 = \"abcdefg\"\n",
        "string2 = \"aabbcc\"\n",
        "print(has_unique_characters_hash(string1))\n",
        "print(has_unique_characters_hash(string2))"
      ],
      "metadata": {
        "colab": {
          "base_uri": "https://localhost:8080/"
        },
        "id": "AbcPC1OO6f_A",
        "outputId": "c3622829-835a-4141-fdfb-dea02ab1c7e8"
      },
      "execution_count": null,
      "outputs": [
        {
          "output_type": "stream",
          "name": "stdout",
          "text": [
            "True\n",
            "False\n"
          ]
        }
      ]
    },
    {
      "cell_type": "code",
      "source": [
        "#Q.8 Write a code to convert a given string to uppercase or lowercase"
      ],
      "metadata": {
        "id": "URvRQmIs6k8g"
      },
      "execution_count": null,
      "outputs": []
    },
    {
      "cell_type": "code",
      "source": [
        "def convert_to_uppercase(s):\n",
        "    \"\"\"\n",
        "    Converts the given string `s` to uppercase.\n",
        "\n",
        "    Parameters:\n",
        "    - s (str): The string to convert.\n",
        "\n",
        "    Returns:\n",
        "    - str: The uppercase version of the string.\n",
        "    \"\"\"\n",
        "    return s.upper()\n",
        "\n",
        "def convert_to_lowercase(s):\n",
        "    \"\"\"\n",
        "    Converts the given string `s` to lowercase.\n",
        "\n",
        "    Parameters:\n",
        "    - s (str): The string to convert.\n",
        "\n",
        "    Returns:\n",
        "    - str: The lowercase version of the string.\n",
        "    \"\"\"\n",
        "    return s.lower()\n",
        "\n",
        "original_string = \"Hello, World!\"\n",
        "\n",
        "uppercase_string = convert_to_uppercase(original_string)\n",
        "lowercase_string = convert_to_lowercase(original_string)\n",
        "\n",
        "print(\"Original String:\", original_string)\n",
        "print(\"Uppercase String:\", uppercase_string)\n",
        "print(\"Lowercase String:\", lowercase_string)\n"
      ],
      "metadata": {
        "colab": {
          "base_uri": "https://localhost:8080/"
        },
        "id": "vrP5z1JO7VL_",
        "outputId": "6784e49c-880f-4d98-cd44-6376fdcb58dd"
      },
      "execution_count": null,
      "outputs": [
        {
          "output_type": "stream",
          "name": "stdout",
          "text": [
            "Original String: Hello, World!\n",
            "Uppercase String: HELLO, WORLD!\n",
            "Lowercase String: hello, world!\n"
          ]
        }
      ]
    },
    {
      "cell_type": "code",
      "source": [
        "#Q.9 Write a code to count the number of words in a string"
      ],
      "metadata": {
        "id": "JSDQqGkk7Z8-"
      },
      "execution_count": null,
      "outputs": []
    },
    {
      "cell_type": "code",
      "source": [
        "def count_words(s):\n",
        "    \"\"\"\n",
        "    Counts the number of words in the given string `s`.\n",
        "\n",
        "    Parameters:\n",
        "    - s (str): The string to count words in.\n",
        "\n",
        "    Returns:\n",
        "    - int: The number of words in the string.\n",
        "    \"\"\"\n",
        "    words = s.split()\n",
        "    return len(words)\n",
        "\n",
        "# Example usage:\n",
        "example_string = \"This is a simple example string with several words.\"\n",
        "word_count = count_words(example_string)\n",
        "print(\"Number of words:\", word_count)"
      ],
      "metadata": {
        "colab": {
          "base_uri": "https://localhost:8080/"
        },
        "id": "haDvYYQJ76jF",
        "outputId": "ae44db7c-7e22-4de6-a04d-7a82e42011dd"
      },
      "execution_count": null,
      "outputs": [
        {
          "output_type": "stream",
          "name": "stdout",
          "text": [
            "Number of words: 9\n"
          ]
        }
      ]
    },
    {
      "cell_type": "code",
      "source": [
        "#Q.10 Write a code to concatenate two strings without using the + operator."
      ],
      "metadata": {
        "id": "02Da0Gms7_3k"
      },
      "execution_count": null,
      "outputs": []
    },
    {
      "cell_type": "code",
      "source": [
        "def concatenate_strings_join(s1, s2):\n",
        "    \"\"\"\n",
        "    Concatenates two strings `s1` and `s2` using `str.join()`.\n",
        "\n",
        "    Parameters:\n",
        "    - s1 (str): The first string.\n",
        "    - s2 (str): The second string.\n",
        "\n",
        "    Returns:\n",
        "    - str: The concatenated string.\n",
        "    \"\"\"\n",
        "    return ''.join([s1, s2])\n",
        "\n",
        "string1 = \"Hello\"\n",
        "string2 = \"World\"\n",
        "result = concatenate_strings_join(string1, string2)\n",
        "print(\"Concatenated String:\", result)\n"
      ],
      "metadata": {
        "colab": {
          "base_uri": "https://localhost:8080/"
        },
        "id": "jPDkvuc79DH8",
        "outputId": "5b3e6bdf-b087-4839-fb74-34b976ba5265"
      },
      "execution_count": null,
      "outputs": [
        {
          "output_type": "stream",
          "name": "stdout",
          "text": [
            "Concatenated String: HelloWorld\n"
          ]
        }
      ]
    },
    {
      "cell_type": "code",
      "source": [
        "def concatenate_strings_format(s1, s2):\n",
        "    \"\"\"\n",
        "    Concatenates two strings `s1` and `s2` using `str.format()`.\n",
        "\n",
        "    Parameters:\n",
        "    - s1 (str): The first string.\n",
        "    - s2 (str): The second string.\n",
        "\n",
        "    Returns:\n",
        "    - str: The concatenated string.\n",
        "    \"\"\"\n",
        "    return \"{}{}\".format(s1, s2)\n",
        "\n",
        "string1 = \"Hello\"\n",
        "string2 = \"World\"\n",
        "result = concatenate_strings_format(string1, string2)\n",
        "print(\"Concatenated String:\", result)\n"
      ],
      "metadata": {
        "colab": {
          "base_uri": "https://localhost:8080/"
        },
        "id": "zx4GDdDY9Syy",
        "outputId": "f04ca9aa-9143-433f-feeb-116f54e41be6"
      },
      "execution_count": null,
      "outputs": [
        {
          "output_type": "stream",
          "name": "stdout",
          "text": [
            "Concatenated String: HelloWorld\n"
          ]
        }
      ]
    },
    {
      "cell_type": "code",
      "source": [
        "def concatenate_strings_fstring(s1, s2):\n",
        "    \"\"\"\n",
        "    Concatenates two strings `s1` and `s2` using f-strings.\n",
        "\n",
        "    Parameters:\n",
        "    - s1 (str): The first string.\n",
        "    - s2 (str): The second string.\n",
        "\n",
        "    Returns:\n",
        "    - str: The concatenated string.\n",
        "    \"\"\"\n",
        "    return f\"{s1}{s2}\"\n",
        "\n",
        "string1 = \"Hello\"\n",
        "string2 = \"World\"\n",
        "result = concatenate_strings_fstring(string1, string2)\n",
        "print(\"Concatenated String:\", result)"
      ],
      "metadata": {
        "colab": {
          "base_uri": "https://localhost:8080/"
        },
        "id": "LxFh3r5l9VHi",
        "outputId": "3259d51e-921c-4571-bae2-189799646a45"
      },
      "execution_count": null,
      "outputs": [
        {
          "output_type": "stream",
          "name": "stdout",
          "text": [
            "Concatenated String: HelloWorld\n"
          ]
        }
      ]
    },
    {
      "cell_type": "code",
      "source": [
        "#Q.11 Write a code to remove all occurrences of a specific element from a list"
      ],
      "metadata": {
        "id": "pp2HLeb39XTM"
      },
      "execution_count": null,
      "outputs": []
    },
    {
      "cell_type": "code",
      "source": [
        "def remove_occurrences(lst, element):\n",
        "    \"\"\"\n",
        "    Removes all occurrences of `element` from the list `lst`.\n",
        "\n",
        "    Parameters:\n",
        "    - lst (list): The list from which to remove the element.\n",
        "    - element: The element to remove from the list.\n",
        "\n",
        "    Returns:\n",
        "    - list: The list with all occurrences of `element` removed.\n",
        "    \"\"\"\n",
        "    return [x for x in lst if x != element]\n",
        "\n",
        "my_list = [1, 2, 3, 4, 2, 5, 2]\n",
        "element_to_remove = 2\n",
        "result = remove_occurrences(my_list, element_to_remove)\n",
        "print(\"Updated List:\", result)"
      ],
      "metadata": {
        "colab": {
          "base_uri": "https://localhost:8080/"
        },
        "id": "HJljVONg-Kre",
        "outputId": "82540bc2-6cfa-4d54-e60d-b5ddb83fa712"
      },
      "execution_count": null,
      "outputs": [
        {
          "output_type": "stream",
          "name": "stdout",
          "text": [
            "Updated List: [1, 3, 4, 5]\n"
          ]
        }
      ]
    },
    {
      "cell_type": "code",
      "source": [
        "def remove_occurrences_filter(lst, element):\n",
        "    \"\"\"\n",
        "    Removes all occurrences of `element` from the list `lst` using `filter()`.\n",
        "\n",
        "    Parameters:\n",
        "    - lst (list): The list from which to remove the element.\n",
        "    - element: The element to remove from the list.\n",
        "\n",
        "    Returns:\n",
        "    - list: The list with all occurrences of `element` removed.\n",
        "    \"\"\"\n",
        "    return list(filter(lambda x: x != element, lst))\n",
        "\n",
        "my_list = [1, 2, 3, 4, 2, 5, 2]\n",
        "element_to_remove = 2\n",
        "result = remove_occurrences_filter(my_list, element_to_remove)\n",
        "print(\"Updated List:\", result)"
      ],
      "metadata": {
        "colab": {
          "base_uri": "https://localhost:8080/"
        },
        "id": "WYuFYayS-MqZ",
        "outputId": "60862878-e38d-4694-f7e8-fec3bfc01104"
      },
      "execution_count": null,
      "outputs": [
        {
          "output_type": "stream",
          "name": "stdout",
          "text": [
            "Updated List: [1, 3, 4, 5]\n"
          ]
        }
      ]
    },
    {
      "cell_type": "code",
      "source": [
        "def remove_occurrences_loop(lst, element):\n",
        "    \"\"\"\n",
        "    Removes all occurrences of `element` from the list `lst` using a loop.\n",
        "\n",
        "    Parameters:\n",
        "    - lst (list): The list from which to remove the element.\n",
        "    - element: The element to remove from the list.\n",
        "\n",
        "    Returns:\n",
        "    - list: The list with all occurrences of `element` removed.\n",
        "    \"\"\"\n",
        "    while element in lst:\n",
        "        lst.remove(element)\n",
        "    return lst\n",
        "\n",
        "my_list = [1, 2, 3, 4, 2, 5, 2]\n",
        "element_to_remove = 2\n",
        "result = remove_occurrences_loop(my_list, element_to_remove)\n",
        "print(\"Updated List:\", result)"
      ],
      "metadata": {
        "colab": {
          "base_uri": "https://localhost:8080/"
        },
        "id": "wl5tMo-g-PFp",
        "outputId": "9a247cfc-5aee-47e2-8e21-85dfe9f399be"
      },
      "execution_count": null,
      "outputs": [
        {
          "output_type": "stream",
          "name": "stdout",
          "text": [
            "Updated List: [1, 3, 4, 5]\n"
          ]
        }
      ]
    },
    {
      "cell_type": "code",
      "source": [
        "#Q.12 Implement a code to find the second largest number in a given list of integers."
      ],
      "metadata": {
        "id": "XYeRZnGL-QuB"
      },
      "execution_count": null,
      "outputs": []
    },
    {
      "cell_type": "code",
      "source": [
        "#Ans"
      ],
      "metadata": {
        "id": "2lHSRo0btixK"
      },
      "execution_count": null,
      "outputs": []
    },
    {
      "cell_type": "code",
      "source": [
        "def find_second_largest(numbers):\n",
        "    if len(numbers) < 2:\n",
        "        raise ValueError(\"List must contain at least two numbers.\")\n",
        "\n",
        "    largest = second_largest = float('-inf')\n",
        "\n",
        "    for number in numbers:\n",
        "        if number > largest:\n",
        "            second_largest = largest\n",
        "            largest = number\n",
        "        elif number > second_largest and number != largest:\n",
        "            second_largest = number\n",
        "\n",
        "    if second_largest == float('-inf'):\n",
        "        raise ValueError(\"List must contain at least two distinct numbers.\")\n",
        "\n",
        "    return second_largest\n",
        "\n",
        "numbers = [10, 5, 6, 3, 10]\n",
        "print(\"Second largest number:\", find_second_largest(numbers))"
      ],
      "metadata": {
        "colab": {
          "base_uri": "https://localhost:8080/"
        },
        "id": "GN_PVA4JtkJD",
        "outputId": "f4b2a158-4ca2-4064-b25e-c1cc4d89dd37"
      },
      "execution_count": null,
      "outputs": [
        {
          "output_type": "stream",
          "name": "stdout",
          "text": [
            "Second largest number: 6\n"
          ]
        }
      ]
    },
    {
      "cell_type": "code",
      "source": [
        "#Q.13 Create a code to count the occurrences of each element in a list and return a dictionary with elements as keys and their counts as values"
      ],
      "metadata": {
        "id": "JKcOUSdJtlZb"
      },
      "execution_count": null,
      "outputs": []
    },
    {
      "cell_type": "code",
      "source": [
        "#Ans"
      ],
      "metadata": {
        "id": "AD0r3VQ9xCql"
      },
      "execution_count": null,
      "outputs": []
    },
    {
      "cell_type": "code",
      "source": [
        "from collections import Counter\n",
        "\n",
        "def count_occurrences(elements):\n",
        "    return dict(Counter(elements))\n",
        "\n",
        "elements = [1, 2, 2, 3, 3, 3, 4, 4, 4, 4]\n",
        "occurrences = count_occurrences(elements)\n",
        "print(\"Occurrences:\", occurrences)"
      ],
      "metadata": {
        "colab": {
          "base_uri": "https://localhost:8080/"
        },
        "id": "eBEPwedFxFSr",
        "outputId": "5298bea1-f24c-4d53-c245-a3873615a78c"
      },
      "execution_count": null,
      "outputs": [
        {
          "output_type": "stream",
          "name": "stdout",
          "text": [
            "Occurrences: {1: 1, 2: 2, 3: 3, 4: 4}\n"
          ]
        }
      ]
    },
    {
      "cell_type": "code",
      "source": [
        "def count_occurrences(elements):\n",
        "    occurrences = {}\n",
        "    for element in elements:\n",
        "        if element in occurrences:\n",
        "            occurrences[element] += 1\n",
        "        else:\n",
        "            occurrences[element] = 1\n",
        "    return occurrences\n",
        "\n",
        "elements = [1, 2, 2, 3, 3, 3, 4, 4, 4, 4]\n",
        "occurrences = count_occurrences(elements)\n",
        "print(\"Occurrences:\", occurrences)"
      ],
      "metadata": {
        "colab": {
          "base_uri": "https://localhost:8080/"
        },
        "id": "9bXkiJNgxHGj",
        "outputId": "97a1b1cf-f84c-4b4d-c345-8f00d51629f0"
      },
      "execution_count": null,
      "outputs": [
        {
          "output_type": "stream",
          "name": "stdout",
          "text": [
            "Occurrences: {1: 1, 2: 2, 3: 3, 4: 4}\n"
          ]
        }
      ]
    },
    {
      "cell_type": "code",
      "source": [
        "#Q.14 Write a code to reserve a list in-place without using any built-in reverse functions."
      ],
      "metadata": {
        "id": "j-AWlNf7xI_D"
      },
      "execution_count": null,
      "outputs": []
    },
    {
      "cell_type": "code",
      "source": [
        "#Ans"
      ],
      "metadata": {
        "id": "xOvOt2hoxlYa"
      },
      "execution_count": null,
      "outputs": []
    },
    {
      "cell_type": "code",
      "source": [
        "def reverse_in_place(lst):\n",
        "    left = 0\n",
        "    right = len(lst) - 1\n",
        "\n",
        "    while left < right:\n",
        "        lst[left], lst[right] = lst[right], lst[left]\n",
        "\n",
        "        left += 1\n",
        "        right -= 1\n",
        "\n",
        "my_list = [1, 2, 3, 4, 5,6]\n",
        "reverse_in_place(my_list)\n",
        "print(\"Reversed list:\", my_list)"
      ],
      "metadata": {
        "colab": {
          "base_uri": "https://localhost:8080/"
        },
        "id": "OABep5Anxn3q",
        "outputId": "e8ba63ae-d9be-4f35-be95-f1aec703d0d5"
      },
      "execution_count": null,
      "outputs": [
        {
          "output_type": "stream",
          "name": "stdout",
          "text": [
            "Reversed list: [6, 5, 4, 3, 2, 1]\n"
          ]
        }
      ]
    },
    {
      "cell_type": "code",
      "source": [
        "#Q .15 Implement a code to find and remove duplicate from a list while preserving the original order of elements."
      ],
      "metadata": {
        "id": "nah2btZ0x5Vy"
      },
      "execution_count": null,
      "outputs": []
    },
    {
      "cell_type": "code",
      "source": [
        "#Ans"
      ],
      "metadata": {
        "id": "XyQAxf1C2eN_"
      },
      "execution_count": null,
      "outputs": []
    },
    {
      "cell_type": "code",
      "source": [
        "def remove_duplicates_preserve_order(lst):\n",
        "    seen = set()\n",
        "    result = []\n",
        "\n",
        "    for item in lst:\n",
        "        if item not in seen:\n",
        "            seen.add(item)\n",
        "            result.append(item)\n",
        "\n",
        "    return result\n",
        "\n",
        "my_list = [1, 2, 2, 3, 4, 1, 5, 4, 6,7]\n",
        "cleaned_list = remove_duplicates_preserve_order(my_list)\n",
        "print(\"List without duplicates:\", cleaned_list)"
      ],
      "metadata": {
        "colab": {
          "base_uri": "https://localhost:8080/"
        },
        "id": "Wb4KJY872fmg",
        "outputId": "14973cf0-3056-4967-a545-e5e270c71ae6"
      },
      "execution_count": null,
      "outputs": [
        {
          "output_type": "stream",
          "name": "stdout",
          "text": [
            "List without duplicates: [1, 2, 3, 4, 5, 6, 7]\n"
          ]
        }
      ]
    },
    {
      "cell_type": "code",
      "source": [
        "#Q.16 Create a code to check if a given list is sorted(either in ascending or descending order) or not."
      ],
      "metadata": {
        "id": "78IXV6rz2haR"
      },
      "execution_count": null,
      "outputs": []
    },
    {
      "cell_type": "code",
      "source": [
        "#Ans"
      ],
      "metadata": {
        "id": "N3Syv8Hk31ga"
      },
      "execution_count": null,
      "outputs": []
    },
    {
      "cell_type": "code",
      "source": [
        "def is_sorted(lst):\n",
        "    if len(lst) < 2:\n",
        "        return True\n",
        "\n",
        "    ascending = True\n",
        "    descending = True\n",
        "\n",
        "    for i in range(1, len(lst)):\n",
        "        if lst[i] > lst[i - 1]:\n",
        "            descending = False\n",
        "        elif lst[i] < lst[i - 1]:\n",
        "            ascending = False\n",
        "\n",
        "    return ascending or descending\n",
        "\n",
        "example_list_ascending = [1, 2, 3, 4, 5,6]\n",
        "example_list_descending = [6,5, 4, 3, 2, 1]\n",
        "example_list_unsorted = [1, 3, 2, 4, 5,6]\n",
        "\n",
        "print(\"Is ascending sorted:\", is_sorted(example_list_ascending))\n",
        "print(\"Is descending sorted:\", is_sorted(example_list_descending))\n",
        "print(\"Is unsorted:\", is_sorted(example_list_unsorted))\n"
      ],
      "metadata": {
        "colab": {
          "base_uri": "https://localhost:8080/"
        },
        "id": "WYDGRPOv32PP",
        "outputId": "53e2b139-85fa-47aa-ab4b-0f0b29fd8cc7"
      },
      "execution_count": null,
      "outputs": [
        {
          "output_type": "stream",
          "name": "stdout",
          "text": [
            "Is ascending sorted: True\n",
            "Is descending sorted: True\n",
            "Is unsorted: False\n"
          ]
        }
      ]
    },
    {
      "cell_type": "code",
      "source": [
        "#Q.17 Write a code to merge two sorted lists into a single sorted list."
      ],
      "metadata": {
        "id": "Kr27Ptul33XV"
      },
      "execution_count": null,
      "outputs": []
    },
    {
      "cell_type": "code",
      "source": [
        "def merge_sorted_lists(list1, list2):\n",
        "    i, j = 0, 0\n",
        "    merged_list = []\n",
        "\n",
        "    while i < len(list1) and j < len(list2):\n",
        "        if list1[i] < list2[j]:\n",
        "            merged_list.append(list1[i])\n",
        "            i += 1\n",
        "        else:\n",
        "            merged_list.append(list2[j])\n",
        "            j += 1\n",
        "\n",
        "    while i < len(list1):\n",
        "        merged_list.append(list1[i])\n",
        "        i += 1\n",
        "\n",
        "    while j < len(list2):\n",
        "        merged_list.append(list2[j])\n",
        "        j += 1\n",
        "\n",
        "    return merged_list\n",
        "\n",
        "list1 = [1, 3, 5, 7,9]\n",
        "list2 = [2, 4, 6, 8,10]\n",
        "\n",
        "merged_list = merge_sorted_lists(list1, list2)\n",
        "print(\"Merged list:\", merged_list)"
      ],
      "metadata": {
        "colab": {
          "base_uri": "https://localhost:8080/"
        },
        "id": "2fvN42t54zuZ",
        "outputId": "ff38c579-4bf2-43f6-972b-8cd6aa4079a5"
      },
      "execution_count": null,
      "outputs": [
        {
          "output_type": "stream",
          "name": "stdout",
          "text": [
            "Merged list: [1, 2, 3, 4, 5, 6, 7, 8, 9, 10]\n"
          ]
        }
      ]
    },
    {
      "cell_type": "code",
      "source": [
        "#Q.18 Implement a code to find the intersection of two given lists."
      ],
      "metadata": {
        "id": "w623phe65B9z"
      },
      "execution_count": null,
      "outputs": []
    },
    {
      "cell_type": "code",
      "source": [
        "#Ans"
      ],
      "metadata": {
        "id": "GV7zSTBU5-dX"
      },
      "execution_count": null,
      "outputs": []
    },
    {
      "cell_type": "code",
      "source": [
        "def intersect_lists(list1, list2):\n",
        "    set1 = set(list1)\n",
        "    set2 = set(list2)\n",
        "\n",
        "    intersection = set1 & set2\n",
        "\n",
        "    return list(intersection)\n",
        "\n",
        "list1 = [1, 2, 3, 4, 5]\n",
        "list2 = [4, 5, 6, 7, 8]\n",
        "\n",
        "intersection_list = intersect_lists(list1, list2)\n",
        "print(\"Intersection of lists:\", intersection_list)"
      ],
      "metadata": {
        "colab": {
          "base_uri": "https://localhost:8080/"
        },
        "id": "EOy5Th2M6EtJ",
        "outputId": "2b29d00e-14f2-446e-c7a5-b6d9371f324a"
      },
      "execution_count": null,
      "outputs": [
        {
          "output_type": "stream",
          "name": "stdout",
          "text": [
            "Intersection of lists: [4, 5]\n"
          ]
        }
      ]
    },
    {
      "cell_type": "code",
      "source": [
        "#Q.19 Create a code to find the union of two lists without duplicates."
      ],
      "metadata": {
        "id": "_DPL5dQ26FWZ"
      },
      "execution_count": null,
      "outputs": []
    },
    {
      "cell_type": "code",
      "source": [
        "def union_lists(list1, list2):\n",
        "    set1 = set(list1)\n",
        "    set2 = set(list2)\n",
        "\n",
        "    union = set1 | set2\n",
        "\n",
        "    return list(union)\n",
        "\n",
        "list1 = [1, 2, 3, 4, 5,6,9]\n",
        "list2 = [4, 5, 6, 7, 8,10,11]\n",
        "\n",
        "union_list = union_lists(list1, list2)\n",
        "print(\"Union of lists:\", union_list)"
      ],
      "metadata": {
        "colab": {
          "base_uri": "https://localhost:8080/"
        },
        "id": "4Q0rA3sL6cuI",
        "outputId": "1dc59142-91a9-432f-8851-6e358530f251"
      },
      "execution_count": null,
      "outputs": [
        {
          "output_type": "stream",
          "name": "stdout",
          "text": [
            "Union of lists: [1, 2, 3, 4, 5, 6, 7, 8, 9, 10, 11]\n"
          ]
        }
      ]
    },
    {
      "cell_type": "code",
      "source": [
        "#Q.20 Write a code to shuffle a given list randomly without using any built-in shuffle functions."
      ],
      "metadata": {
        "id": "vU5iFE5Y6hvo"
      },
      "execution_count": null,
      "outputs": []
    },
    {
      "cell_type": "code",
      "source": [
        "import random\n",
        "\n",
        "def fisher_yates_shuffle(lst):\n",
        "    n = len(lst)\n",
        "    for i in range(n - 1, 0, -1):\n",
        "        j = random.randint(0, i)\n",
        "        lst[i], lst[j] = lst[j], lst[i]\n",
        "\n",
        "my_list = [1, 2, 3, 4, 5,6]\n",
        "fisher_yates_shuffle(my_list)\n",
        "print(\"Shuffled list:\", my_list)\n"
      ],
      "metadata": {
        "colab": {
          "base_uri": "https://localhost:8080/"
        },
        "id": "88pdvUVC7Qan",
        "outputId": "13144525-5567-41a0-ea7b-4347682f7960"
      },
      "execution_count": null,
      "outputs": [
        {
          "output_type": "stream",
          "name": "stdout",
          "text": [
            "Shuffled list: [3, 6, 2, 5, 1, 4]\n"
          ]
        }
      ]
    },
    {
      "cell_type": "code",
      "source": [
        "#Q.21 Write a code that takes two tuples as input and returns a new tuple containing elements that are common to both input tuples."
      ],
      "metadata": {
        "id": "3ro-sXIX7RG3"
      },
      "execution_count": null,
      "outputs": []
    },
    {
      "cell_type": "code",
      "source": [
        "def common_elements(tuple1, tuple2):\n",
        "    common = set(tuple1).intersection(set(tuple2))\n",
        "    return tuple(common)\n",
        "\n",
        "tuple1 = (1, 2, 3, 4, 5)\n",
        "tuple2 = (4, 5, 6, 7, 8)\n",
        "result = common_elements(tuple1, tuple2)\n",
        "print(result)\n"
      ],
      "metadata": {
        "colab": {
          "base_uri": "https://localhost:8080/"
        },
        "id": "s7ib9xRV7405",
        "outputId": "c41d8a3e-ac46-440d-f3f2-d6310e6b484e"
      },
      "execution_count": null,
      "outputs": [
        {
          "output_type": "stream",
          "name": "stdout",
          "text": [
            "(4, 5)\n"
          ]
        }
      ]
    },
    {
      "cell_type": "code",
      "source": [
        "#Q.22 Create a code that prompts the user to enter two sets of integers separated by commas.Then,print the intersection of these two sets."
      ],
      "metadata": {
        "id": "Us6s4pOK-qb4"
      },
      "execution_count": null,
      "outputs": []
    },
    {
      "cell_type": "code",
      "source": [
        "def get_set_from_input(prompt):\n",
        "    return set(map(int, input(prompt).split(',')))\n",
        "\n",
        "set1 = get_set_from_input(\"Enter the first set of integers (separated by commas): \")\n",
        "set2 = get_set_from_input(\"Enter the second set of integers (separated by commas): \")\n",
        "\n",
        "intersection = set1.intersection(set2)\n",
        "\n",
        "print(\"The intersection of the two sets is:\", intersection)\n"
      ],
      "metadata": {
        "colab": {
          "base_uri": "https://localhost:8080/"
        },
        "id": "8z9-wHMq_lmr",
        "outputId": "ffca533c-7f3b-4e0f-c51d-5d2936d1abb5"
      },
      "execution_count": null,
      "outputs": [
        {
          "output_type": "stream",
          "name": "stdout",
          "text": [
            "Enter the first set of integers (separated by commas): 96\n",
            "Enter the second set of integers (separated by commas): 36\n",
            "The intersection of the two sets is: set()\n"
          ]
        }
      ]
    },
    {
      "cell_type": "code",
      "source": [
        "#Q.23 Write a code to concatenate two tuples.The function should take two tuples as input and return a new tuple containing elements from both input tuples."
      ],
      "metadata": {
        "id": "QHict65-__7W"
      },
      "execution_count": null,
      "outputs": []
    },
    {
      "cell_type": "code",
      "source": [
        "def concatenate_tuples(tuple1, tuple2):\n",
        "    return tuple1 + tuple2\n",
        "\n",
        "tuple1 = (1, 2, 3)\n",
        "tuple2 = (4, 5, 6,7,8)\n",
        "result = concatenate_tuples(tuple1, tuple2)\n",
        "print(result)"
      ],
      "metadata": {
        "colab": {
          "base_uri": "https://localhost:8080/"
        },
        "id": "MymH-tCoBatI",
        "outputId": "c281ffe9-95fe-4f22-ab12-4008b721e51a"
      },
      "execution_count": null,
      "outputs": [
        {
          "output_type": "stream",
          "name": "stdout",
          "text": [
            "(1, 2, 3, 4, 5, 6, 7, 8)\n"
          ]
        }
      ]
    },
    {
      "cell_type": "code",
      "source": [
        "#Q.24 Develop a code that prompts the user to input two sets of strings.Then,print the elements that are present in the first set but not in the second set."
      ],
      "metadata": {
        "id": "gq33v6BaBkg6"
      },
      "execution_count": null,
      "outputs": []
    },
    {
      "cell_type": "code",
      "source": [
        "def get_set_from_input(prompt):\n",
        "    return set(input(prompt).split(','))\n",
        "\n",
        "set1 = get_set_from_input(\"Enter the first set of strings (separated by commas): \")\n",
        "set2 = get_set_from_input(\"Enter the second set of strings (separated by commas): \")\n",
        "\n",
        "difference = set1.difference(set2)\n",
        "\n",
        "print(\"Elements present in the first set but not in the second set:\", difference)"
      ],
      "metadata": {
        "colab": {
          "base_uri": "https://localhost:8080/"
        },
        "id": "CjKIlpEhCdkH",
        "outputId": "668eac54-e730-490c-9674-38572ae7f008"
      },
      "execution_count": null,
      "outputs": [
        {
          "output_type": "stream",
          "name": "stdout",
          "text": [
            "Enter the first set of strings (separated by commas): 15\n",
            "Enter the second set of strings (separated by commas): 36\n",
            "Elements present in the first set but not in the second set: {'15'}\n"
          ]
        }
      ]
    },
    {
      "cell_type": "code",
      "source": [
        "#Q.25 Create a code that takes a tuple and two integers as input. The function should return a new tuple containing elements from the original tuple within the specified range of indices."
      ],
      "metadata": {
        "id": "pCgDDEemCk8O"
      },
      "execution_count": null,
      "outputs": []
    },
    {
      "cell_type": "code",
      "source": [
        "def slice_tuple(input_tuple, start, end):\n",
        "    if start < 0 or end >= len(input_tuple) or start > end:\n",
        "        return \"Invalid indices\"\n",
        "    return input_tuple[start:end + 1]\n",
        "\n",
        "my_tuple = (10, 20, 30, 40, 50, 60, 70,80)\n",
        "start_idx = 2\n",
        "end_idx = 5\n",
        "\n",
        "new_tuple = slice_tuple(my_tuple, start_idx, end_idx)\n",
        "print(new_tuple)"
      ],
      "metadata": {
        "colab": {
          "base_uri": "https://localhost:8080/"
        },
        "id": "QngCt4S5MbVX",
        "outputId": "3999a7e5-b5bd-4239-b0f2-89bc01d4d43a"
      },
      "execution_count": null,
      "outputs": [
        {
          "output_type": "stream",
          "name": "stdout",
          "text": [
            "(30, 40, 50, 60)\n"
          ]
        }
      ]
    },
    {
      "cell_type": "code",
      "source": [
        "#Q.26 Write a code that prompts the user to input two sets of characters.Then,print the union of these two sets."
      ],
      "metadata": {
        "id": "OM5A4L-qMq3s"
      },
      "execution_count": null,
      "outputs": []
    },
    {
      "cell_type": "code",
      "source": [
        "#Ans"
      ],
      "metadata": {
        "id": "R3eUp9MuOtNa"
      },
      "execution_count": null,
      "outputs": []
    },
    {
      "cell_type": "code",
      "source": [
        "def union_of_sets():\n",
        "    set1 = set(input(\"Enter the first set of characters: \"))\n",
        "    set2 = set(input(\"Enter the second set of characters: \"))\n",
        "\n",
        "    union_set = set1.union(set2)\n",
        "\n",
        "    print(\"The union of the two sets is:\", union_set)\n",
        "\n",
        "union_of_sets()"
      ],
      "metadata": {
        "colab": {
          "base_uri": "https://localhost:8080/"
        },
        "id": "QU70OgDeSHTM",
        "outputId": "221f92d6-ddeb-4911-f033-f6bea1f096f2"
      },
      "execution_count": null,
      "outputs": [
        {
          "output_type": "stream",
          "name": "stdout",
          "text": [
            "Enter the first set of characters: abc\n",
            "Enter the second set of characters: bde\n",
            "The union of the two sets is: {'c', 'a', 'e', 'd', 'b'}\n"
          ]
        }
      ]
    },
    {
      "cell_type": "code",
      "source": [
        "#Q.27 Develop a code that takes a tuple of integers as input. The function should return the maximum and minimum values from the tuple using tuple unpacking."
      ],
      "metadata": {
        "id": "DmyeHT8kSzz4"
      },
      "execution_count": null,
      "outputs": []
    },
    {
      "cell_type": "code",
      "source": [
        "#Ans"
      ],
      "metadata": {
        "id": "tS3t2RiSll0k"
      },
      "execution_count": null,
      "outputs": []
    },
    {
      "cell_type": "code",
      "source": [
        "def find_max_min(input_tuple):\n",
        "    max_value, min_value = max(input_tuple), min(input_tuple)\n",
        "\n",
        "    return max_value, min_value\n",
        "\n",
        "my_tuple = (10, 20, 5, 40, 25,50)\n",
        "max_val, min_val = find_max_min(my_tuple)\n",
        "\n",
        "print(f\"Maximum value: {max_val}\")\n",
        "print(f\"Minimum value: {min_val}\")"
      ],
      "metadata": {
        "colab": {
          "base_uri": "https://localhost:8080/"
        },
        "id": "1DzeaVzBlmhy",
        "outputId": "690479c6-9156-4cbe-9d71-c018db3423a7"
      },
      "execution_count": null,
      "outputs": [
        {
          "output_type": "stream",
          "name": "stdout",
          "text": [
            "Maximum value: 50\n",
            "Minimum value: 5\n"
          ]
        }
      ]
    },
    {
      "cell_type": "code",
      "source": [
        "#Q.28 Create a code that defines two sets of integers.Then,print the union,intersection,and difference of these two sets."
      ],
      "metadata": {
        "id": "5JqMSitDlogr"
      },
      "execution_count": null,
      "outputs": []
    },
    {
      "cell_type": "code",
      "source": [
        "#Ans"
      ],
      "metadata": {
        "id": "i-7EvYAhmRJv"
      },
      "execution_count": null,
      "outputs": []
    },
    {
      "cell_type": "code",
      "source": [
        "def set_operations():\n",
        "    set1 = {1, 2, 3, 4, 5, 6}\n",
        "    set2 = {4, 5, 6, 7, 8, 9}\n",
        "\n",
        "    union_set = set1.union(set2)\n",
        "\n",
        "    intersection_set = set1.intersection(set2)\n",
        "\n",
        "    difference_set = set1.difference(set2)\n",
        "\n",
        "    print(\"Union of the sets:\", union_set)\n",
        "    print(\"Intersection of the sets:\", intersection_set)\n",
        "    print(\"Difference of set1 - set2:\", difference_set)\n",
        "\n",
        "set_operations()\n"
      ],
      "metadata": {
        "colab": {
          "base_uri": "https://localhost:8080/"
        },
        "id": "ubDfWugJmVPJ",
        "outputId": "3bfe284b-428d-4680-c384-cb04559a6833"
      },
      "execution_count": null,
      "outputs": [
        {
          "output_type": "stream",
          "name": "stdout",
          "text": [
            "Union of the sets: {1, 2, 3, 4, 5, 6, 7, 8, 9}\n",
            "Intersection of the sets: {4, 5, 6}\n",
            "Difference of set1 - set2: {1, 2, 3}\n"
          ]
        }
      ]
    },
    {
      "cell_type": "code",
      "source": [
        "#Q.29 Write a code that takes a tuple and an element as input. The function should return the count of occurrences of the given element in the tuple."
      ],
      "metadata": {
        "id": "2H1_oGR2nVf3"
      },
      "execution_count": null,
      "outputs": []
    },
    {
      "cell_type": "code",
      "source": [
        "#Ans"
      ],
      "metadata": {
        "id": "nTfoPvkWn_Sm"
      },
      "execution_count": null,
      "outputs": []
    },
    {
      "cell_type": "code",
      "source": [
        "def count_occurrences(input_tuple, element):\n",
        "    return input_tuple.count(element)\n",
        "\n",
        "my_tuple = (10, 20, 30, 20, 40, 20, 50 , 80)\n",
        "element = 20\n",
        "\n",
        "occurrences = count_occurrences(my_tuple, element)\n",
        "print(f\"The element {element} occurs {occurrences} times in the tuple.\")"
      ],
      "metadata": {
        "colab": {
          "base_uri": "https://localhost:8080/"
        },
        "id": "oHriyqWCoAL2",
        "outputId": "9812055e-1bc2-475b-c6c1-3b476fbbb96c"
      },
      "execution_count": null,
      "outputs": [
        {
          "output_type": "stream",
          "name": "stdout",
          "text": [
            "The element 20 occurs 3 times in the tuple.\n"
          ]
        }
      ]
    },
    {
      "cell_type": "code",
      "source": [
        "#Q.30 Develop a code that prompts the user to input two sets of strings. Then ,print the symmetric difference of these two sets."
      ],
      "metadata": {
        "id": "des3yereoWCt"
      },
      "execution_count": null,
      "outputs": []
    },
    {
      "cell_type": "code",
      "source": [
        "#Ans"
      ],
      "metadata": {
        "id": "uaKbQyc6pYqJ"
      },
      "execution_count": null,
      "outputs": []
    },
    {
      "cell_type": "code",
      "source": [
        "def symmetric_difference_of_sets():\n",
        "    set1 = set(input(\"Enter the first set of strings (separated by spaces): \").split())\n",
        "    set2 = set(input(\"Enter the second set of strings (separated by spaces): \").split())\n",
        "\n",
        "    sym_diff_set = set1.symmetric_difference(set2)\n",
        "\n",
        "    print(\"The symmetric difference of the two sets is:\", sym_diff_set)\n",
        "\n",
        "symmetric_difference_of_sets()"
      ],
      "metadata": {
        "colab": {
          "base_uri": "https://localhost:8080/"
        },
        "id": "0dwAhjxRpZrb",
        "outputId": "6656ee9d-0399-4047-f81e-41183a9edb3b"
      },
      "execution_count": null,
      "outputs": [
        {
          "output_type": "stream",
          "name": "stdout",
          "text": [
            "Enter the first set of strings (separated by spaces): apple banana cherry\n",
            "Enter the second set of strings (separated by spaces): banana cherry grape\n",
            "The symmetric difference of the two sets is: {'grape', 'apple'}\n"
          ]
        }
      ]
    },
    {
      "cell_type": "code",
      "source": [
        "#Q.31 Write a code that takes a list of words as input and returns a dictionary where the keys are unique words and the values are the frequencies of those words in the input list."
      ],
      "metadata": {
        "id": "SZdpl4eGp_NK"
      },
      "execution_count": null,
      "outputs": []
    },
    {
      "cell_type": "code",
      "source": [
        "def word_frequencies(word_list):\n",
        "    frequency_dict = {}\n",
        "\n",
        "    for word in word_list:\n",
        "        if word in frequency_dict:\n",
        "            frequency_dict[word] += 1\n",
        "        else:\n",
        "            frequency_dict[word] = 1\n",
        "\n",
        "    return frequency_dict\n",
        "\n",
        "words = ['apple', 'banana', 'apple', 'orange', 'banana', 'apple','mango']\n",
        "frequencies = word_frequencies(words)\n",
        "print(frequencies)"
      ],
      "metadata": {
        "id": "o_nQrO69xdw6",
        "colab": {
          "base_uri": "https://localhost:8080/"
        },
        "outputId": "0e7e4e1c-4cf9-4503-8497-b49e33a1adfe"
      },
      "execution_count": 3,
      "outputs": [
        {
          "output_type": "stream",
          "name": "stdout",
          "text": [
            "{'apple': 3, 'banana': 2, 'orange': 1, 'mango': 1}\n"
          ]
        }
      ]
    },
    {
      "cell_type": "code",
      "source": [
        "#Q.32 Write a code that takes two dictinaries as input and merges them into a single dictinary.if there are common keys,the values should be added together."
      ],
      "metadata": {
        "id": "dYAaMKNeRJhS"
      },
      "execution_count": 5,
      "outputs": []
    },
    {
      "cell_type": "code",
      "source": [
        "def merge_dictionaries(dict1, dict2):\n",
        "    merged_dict = dict1.copy()\n",
        "\n",
        "    for key, value in dict2.items():\n",
        "        if key in merged_dict:\n",
        "            merged_dict[key] += value\n",
        "        else:\n",
        "            merged_dict[key] = value\n",
        "\n",
        "    return merged_dict\n",
        "\n",
        "dict1 = {'mango' : 5,'apple': 3, 'banana': 2, 'orange': 1}\n",
        "dict2 = {'banana': 1, 'grape': 4, 'apple': 2}\n",
        "\n",
        "merged = merge_dictionaries(dict1, dict2)\n",
        "print(merged)"
      ],
      "metadata": {
        "colab": {
          "base_uri": "https://localhost:8080/"
        },
        "id": "oSL-BxVGSSv9",
        "outputId": "541b82fa-82c3-48d1-fcbe-5615cd12596a"
      },
      "execution_count": 8,
      "outputs": [
        {
          "output_type": "stream",
          "name": "stdout",
          "text": [
            "{'mango': 5, 'apple': 5, 'banana': 3, 'orange': 1, 'grape': 4}\n"
          ]
        }
      ]
    },
    {
      "cell_type": "code",
      "source": [
        "#Q.33 Write a code to access a value in a nested dictionary. The function should take the dictionary and a list of keys as input, and return the corresponding value. If any of the keys do not exist in the dictinary, the function shuld return none."
      ],
      "metadata": {
        "id": "aOcvqiwiSwVM"
      },
      "execution_count": 9,
      "outputs": []
    },
    {
      "cell_type": "code",
      "source": [
        "def get_nested_value(nested_dict, key_list):\n",
        "    current_dict = nested_dict\n",
        "\n",
        "    for key in key_list:\n",
        "        if key in current_dict:\n",
        "            current_dict = current_dict[key]\n",
        "        else:\n",
        "            return None\n",
        "\n",
        "    return current_dict\n",
        "\n",
        "nested_dict = {\n",
        "    'a': {\n",
        "        'b': {\n",
        "            'c': 5\n",
        "        }\n",
        "    },\n",
        "    'x': {\n",
        "        'y': 10\n",
        "    }\n",
        "}\n",
        "\n",
        "keys = ['a', 'b', 'c']\n",
        "result = get_nested_value(nested_dict, keys)\n",
        "print(result)\n",
        "\n",
        "keys = ['x', 'z']\n",
        "result = get_nested_value(nested_dict, keys)\n",
        "print(result)"
      ],
      "metadata": {
        "colab": {
          "base_uri": "https://localhost:8080/"
        },
        "id": "B3_ovEhDU2Iv",
        "outputId": "5fe14e7d-65f2-437e-a80e-567d6d6079bd"
      },
      "execution_count": 11,
      "outputs": [
        {
          "output_type": "stream",
          "name": "stdout",
          "text": [
            "5\n",
            "None\n"
          ]
        }
      ]
    },
    {
      "cell_type": "code",
      "source": [
        "#Q.34 Write a code that takes a dictionary as input and returns a sorted version of it based on the values. You can choose whether to sort in ascending order."
      ],
      "metadata": {
        "id": "BBtqokPUVxRG"
      },
      "execution_count": 12,
      "outputs": []
    },
    {
      "cell_type": "code",
      "source": [
        "def sort_dictionary_by_values(input_dict, ascending=True):\n",
        "    sorted_dict = dict(sorted(input_dict.items(), key=lambda item: item[1], reverse=not ascending))\n",
        "    return sorted_dict\n",
        "\n",
        "sample_dict = {'apple': 5, 'banana': 2, 'orange': 7, 'grape': 3}\n",
        "\n",
        "sorted_asc = sort_dictionary_by_values(sample_dict, ascending=True)\n",
        "print(\"Sorted in ascending order:\", sorted_asc)\n",
        "\n",
        "sorted_desc = sort_dictionary_by_values(sample_dict, ascending=False)\n",
        "print(\"Sorted in descending order:\", sorted_desc)"
      ],
      "metadata": {
        "colab": {
          "base_uri": "https://localhost:8080/"
        },
        "id": "YFC_GtLKWdwd",
        "outputId": "b71b6375-77f6-4326-cf6f-a5b503790dd4"
      },
      "execution_count": 14,
      "outputs": [
        {
          "output_type": "stream",
          "name": "stdout",
          "text": [
            "Sorted in ascending order: {'banana': 2, 'grape': 3, 'apple': 5, 'orange': 7}\n",
            "Sorted in descending order: {'orange': 7, 'apple': 5, 'grape': 3, 'banana': 2}\n"
          ]
        }
      ]
    },
    {
      "cell_type": "code",
      "source": [
        "#Q .35 Write a code that inverts a dictionary,swapping keys and values.Ensure that the inverted dictionary correctly handles cases where multipule keys have the same value by storing the keys as a list in the inverted dictinary."
      ],
      "metadata": {
        "id": "tKwmezVEWjKF"
      },
      "execution_count": 15,
      "outputs": []
    },
    {
      "cell_type": "code",
      "source": [
        "def invert_dictionary(input_dict):\n",
        "    inverted_dict = {}\n",
        "\n",
        "    for key, value in input_dict.items():\n",
        "        if value in inverted_dict:\n",
        "            inverted_dict[value].append(key)\n",
        "        else:\n",
        "            inverted_dict[value] = [key]\n",
        "\n",
        "    return inverted_dict\n",
        "\n",
        "sample_dict = {'apple': 5, 'banana': 2, 'orange': 5, 'grape': 3}\n",
        "\n",
        "inverted = invert_dictionary(sample_dict)\n",
        "print(inverted)"
      ],
      "metadata": {
        "colab": {
          "base_uri": "https://localhost:8080/"
        },
        "id": "IB2JCkiKXaIQ",
        "outputId": "de227c5c-da5d-4956-ecb2-59e84094333e"
      },
      "execution_count": 17,
      "outputs": [
        {
          "output_type": "stream",
          "name": "stdout",
          "text": [
            "{5: ['apple', 'orange'], 2: ['banana'], 3: ['grape']}\n"
          ]
        }
      ]
    },
    {
      "cell_type": "code",
      "source": [],
      "metadata": {
        "id": "ZlEdRc2UY8t4"
      },
      "execution_count": null,
      "outputs": []
    }
  ]
}